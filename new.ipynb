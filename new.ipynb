{
 "cells": [
  {
   "cell_type": "code",
   "execution_count": 1,
   "id": "2e6e9265",
   "metadata": {},
   "outputs": [
    {
     "name": "stdout",
     "output_type": "stream",
     "text": [
      "this is a repo added by using localdevice\n"
     ]
    }
   ],
   "source": [
    "print(\"this is a repo added by using localdevice\")"
   ]
  },
  {
   "cell_type": "code",
   "execution_count": 2,
   "id": "9283ae83",
   "metadata": {},
   "outputs": [
    {
     "name": "stdout",
     "output_type": "stream",
     "text": [
      "sucessfull!!!\n"
     ]
    }
   ],
   "source": [
    "print(\"sucessfull!!!\")"
   ]
  },
  {
   "cell_type": "code",
   "execution_count": 7,
   "id": "54ef160c",
   "metadata": {},
   "outputs": [
    {
     "name": "stdout",
     "output_type": "stream",
     "text": [
      "this is a new feature hahahha\n"
     ]
    }
   ],
   "source": [
    "print(\"this is a new feature hahahha\")"
   ]
  },
  {
   "cell_type": "code",
   "execution_count": 8,
   "id": "c49ce566",
   "metadata": {},
   "outputs": [
    {
     "name": "stdout",
     "output_type": "stream",
     "text": [
      "ohh satan!!!! nonooooooo...\n"
     ]
    }
   ],
   "source": [
    "print(\"ohh satan!!!! nonooooooo...\")"
   ]
  },
  {
   "cell_type": "code",
   "execution_count": null,
   "id": "5faadf5b",
   "metadata": {},
   "outputs": [],
   "source": []
  },
  {
   "cell_type": "code",
   "execution_count": null,
   "id": "ac299661",
   "metadata": {},
   "outputs": [],
   "source": []
  }
 ],
 "metadata": {
  "kernelspec": {
   "display_name": ".venv",
   "language": "python",
   "name": "python3"
  },
  "language_info": {
   "codemirror_mode": {
    "name": "ipython",
    "version": 3
   },
   "file_extension": ".py",
   "mimetype": "text/x-python",
   "name": "python",
   "nbconvert_exporter": "python",
   "pygments_lexer": "ipython3",
   "version": "3.13.2"
  }
 },
 "nbformat": 4,
 "nbformat_minor": 5
}

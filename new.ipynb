{
 "cells": [
  {
   "cell_type": "code",
   "execution_count": 1,
   "id": "2e6e9265",
   "metadata": {},
   "outputs": [
    {
     "name": "stdout",
     "output_type": "stream",
     "text": [
      "this is a repo added by using localdevice\n"
     ]
    }
   ],
   "source": [
    "print(\"this is a repo added by using localdevice\")"
   ]
  },
  {
   "cell_type": "code",
   "execution_count": 2,
   "id": "9283ae83",
   "metadata": {},
   "outputs": [
    {
     "name": "stdout",
     "output_type": "stream",
     "text": [
      "sucessfull!!!\n"
     ]
    }
   ],
   "source": [
    "print(\"sucessfull!!!\")"
   ]
  },
  {
   "cell_type": "code",
   "execution_count": 4,
   "id": "54ef160c",
   "metadata": {},
   "outputs": [
    {
     "name": "stdout",
     "output_type": "stream",
     "text": [
      "this is a new feature\n"
     ]
    }
   ],
   "source": [
    "print(\"this is a new feature\")"
   ]
  }
 ],
 "metadata": {
  "kernelspec": {
   "display_name": ".venv",
   "language": "python",
   "name": "python3"
  },
  "language_info": {
   "codemirror_mode": {
    "name": "ipython",
    "version": 3
   },
   "file_extension": ".py",
   "mimetype": "text/x-python",
   "name": "python",
   "nbconvert_exporter": "python",
   "pygments_lexer": "ipython3",
   "version": "3.13.2"
  }
 },
 "nbformat": 4,
 "nbformat_minor": 5
}
